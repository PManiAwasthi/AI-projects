{
 "cells": [
  {
   "cell_type": "code",
   "execution_count": 2,
   "metadata": {},
   "outputs": [],
   "source": [
    "#importing necessary libraries\n",
    "import cv2\n",
    "import numpy as np\n",
    "import os"
   ]
  },
  {
   "cell_type": "code",
   "execution_count": 3,
   "metadata": {},
   "outputs": [],
   "source": [
    "#path for label, configuration file and weight file for yolov3\n",
    "label_path = \"coco.names\"\n",
    "config_path = \"yolov3.cfg\"\n",
    "weigth_path = \"yolov3.weights\""
   ]
  },
  {
   "cell_type": "code",
   "execution_count": 4,
   "metadata": {},
   "outputs": [],
   "source": [
    "#to extract the labels from the label file\n",
    "labels = open(label_path).read().strip().split(\"\\n\")\n",
    "\n",
    "#for preprocessing part\n",
    "yoloShape = (416,416)\n",
    "\n",
    "#to config and feed the weight to the network\n",
    "network = cv2.dnn.readNetFromDarknet(config_path, weigth_path)\n",
    "\n",
    "#to get layers\n",
    "ln = network.getUnconnectedOutLayersNames()"
   ]
  },
  {
   "cell_type": "code",
   "execution_count": 5,
   "metadata": {},
   "outputs": [],
   "source": [
    "#to initailise the camera\n",
    "cam = cv2.VideoCapture(0)\n",
    "\n",
    "while True:\n",
    "    flag, img = cam.read()\n",
    "    #preprocessing the image obtained\n",
    "    new_img = cv2.dnn.blobFromImage(img, 1/255.0, yoloShape, swapRB = True)\n",
    "    #feeding the new image to the network as input\n",
    "    network.setInput(new_img)\n",
    "    layer_outs = network.forward(ln)\n",
    "    \n",
    "    #loop for detection of object\n",
    "    for output in layer_outs:\n",
    "        for detection in output:\n",
    "            scores = detection[5:]\n",
    "            classId = np.argmax(scores)\n",
    "            confidence = scores[classId]\n",
    "            H,W = img.shape[:2]\n",
    "            if float(confidence) > 0.8:\n",
    "                Object = labels[classId]\n",
    "                if Object == \"person\":\n",
    "                    x,y,w,h = (detection[:4] * np.array([W , H, W, H])).astype(\"int\")\n",
    "                    (X, Y) = int(x-(w/2)), int(y-(h/2))\n",
    "                    cv2.rectangle(img, (X,Y),(X+w, Y+h),(0,255,0),2)\n",
    "                    cv2.putText(img,Object,(X,Y-20), cv2.FONT_HERSHEY_SIMPLEX, 0.4, (0,0,255), 2)\n",
    "    cv2.imshow(\"Person Detection using YOLOv3\",img)\n",
    "    key = cv2.waitKey(10)\n",
    "    if key == 27:\n",
    "        break\n",
    "cam.release()\n",
    "cv2.destroyAllWindows()"
   ]
  },
  {
   "cell_type": "code",
   "execution_count": null,
   "metadata": {},
   "outputs": [],
   "source": []
  }
 ],
 "metadata": {
  "kernelspec": {
   "display_name": "Python 3",
   "language": "python",
   "name": "python3"
  },
  "language_info": {
   "codemirror_mode": {
    "name": "ipython",
    "version": 3
   },
   "file_extension": ".py",
   "mimetype": "text/x-python",
   "name": "python",
   "nbconvert_exporter": "python",
   "pygments_lexer": "ipython3",
   "version": "3.7.7"
  }
 },
 "nbformat": 4,
 "nbformat_minor": 4
}
